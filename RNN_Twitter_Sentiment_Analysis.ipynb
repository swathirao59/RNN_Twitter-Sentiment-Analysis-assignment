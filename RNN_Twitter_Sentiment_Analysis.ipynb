{
  "nbformat": 4,
  "nbformat_minor": 0,
  "metadata": {
    "colab": {
      "provenance": []
    },
    "kernelspec": {
      "name": "python3",
      "display_name": "Python 3"
    },
    "language_info": {
      "name": "python"
    }
  },
  "cells": [
    {
      "cell_type": "code",
      "execution_count": 2,
      "metadata": {
        "id": "oNvM9Xyx905B"
      },
      "outputs": [],
      "source": [
        "#important library we need\n",
        "import pandas as pd  ##--- for data manipulations##\n",
        "import matplotlib.pyplot as plt  ##--- for plotting graphs##\n",
        "import numpy as np ## for numerical calculations##"
      ]
    },
    {
      "cell_type": "code",
      "source": [
        "# load data\n",
        "df_training= pd.read_csv(\"/content/twitter_training.csv\")\n",
        "df_validation = pd.read_csv(\"/content/twitter_validation.csv\")"
      ],
      "metadata": {
        "id": "cyXYgpCY-OL0"
      },
      "execution_count": 3,
      "outputs": []
    },
    {
      "cell_type": "code",
      "source": [
        "# Names for columns in the dataframe\n",
        "column_name=['tweetID','entity','sentiment','tweet_content']\n",
        "df_training.columns=column_name\n",
        "df_validation.columns=column_name"
      ],
      "metadata": {
        "id": "oUelRNoRAfaA"
      },
      "execution_count": 7,
      "outputs": []
    },
    {
      "cell_type": "code",
      "source": [
        "df=pd.concat([df_training,df_validation],ignore_index=False)"
      ],
      "metadata": {
        "id": "iPegoQuj_aeM"
      },
      "execution_count": 8,
      "outputs": []
    },
    {
      "cell_type": "code",
      "source": [
        "df.head()"
      ],
      "metadata": {
        "colab": {
          "base_uri": "https://localhost:8080/",
          "height": 206
        },
        "id": "4WloVzNF_pKc",
        "outputId": "98db6544-3dcb-4762-f82a-ab0dfd4aa8d1"
      },
      "execution_count": 9,
      "outputs": [
        {
          "output_type": "execute_result",
          "data": {
            "text/plain": [
              "   tweetID       entity sentiment  \\\n",
              "0     2401  Borderlands  Positive   \n",
              "1     2401  Borderlands  Positive   \n",
              "2     2401  Borderlands  Positive   \n",
              "3     2401  Borderlands  Positive   \n",
              "4     2401  Borderlands  Positive   \n",
              "\n",
              "                                       tweet_content  \n",
              "0  I am coming to the borders and I will kill you...  \n",
              "1  im getting on borderlands and i will kill you ...  \n",
              "2  im coming on borderlands and i will murder you...  \n",
              "3  im getting on borderlands 2 and i will murder ...  \n",
              "4  im getting into borderlands and i can murder y...  "
            ],
            "text/html": [
              "\n",
              "  <div id=\"df-25002d2b-be1c-47e0-a98d-4a5d18b1fdd8\" class=\"colab-df-container\">\n",
              "    <div>\n",
              "<style scoped>\n",
              "    .dataframe tbody tr th:only-of-type {\n",
              "        vertical-align: middle;\n",
              "    }\n",
              "\n",
              "    .dataframe tbody tr th {\n",
              "        vertical-align: top;\n",
              "    }\n",
              "\n",
              "    .dataframe thead th {\n",
              "        text-align: right;\n",
              "    }\n",
              "</style>\n",
              "<table border=\"1\" class=\"dataframe\">\n",
              "  <thead>\n",
              "    <tr style=\"text-align: right;\">\n",
              "      <th></th>\n",
              "      <th>tweetID</th>\n",
              "      <th>entity</th>\n",
              "      <th>sentiment</th>\n",
              "      <th>tweet_content</th>\n",
              "    </tr>\n",
              "  </thead>\n",
              "  <tbody>\n",
              "    <tr>\n",
              "      <th>0</th>\n",
              "      <td>2401</td>\n",
              "      <td>Borderlands</td>\n",
              "      <td>Positive</td>\n",
              "      <td>I am coming to the borders and I will kill you...</td>\n",
              "    </tr>\n",
              "    <tr>\n",
              "      <th>1</th>\n",
              "      <td>2401</td>\n",
              "      <td>Borderlands</td>\n",
              "      <td>Positive</td>\n",
              "      <td>im getting on borderlands and i will kill you ...</td>\n",
              "    </tr>\n",
              "    <tr>\n",
              "      <th>2</th>\n",
              "      <td>2401</td>\n",
              "      <td>Borderlands</td>\n",
              "      <td>Positive</td>\n",
              "      <td>im coming on borderlands and i will murder you...</td>\n",
              "    </tr>\n",
              "    <tr>\n",
              "      <th>3</th>\n",
              "      <td>2401</td>\n",
              "      <td>Borderlands</td>\n",
              "      <td>Positive</td>\n",
              "      <td>im getting on borderlands 2 and i will murder ...</td>\n",
              "    </tr>\n",
              "    <tr>\n",
              "      <th>4</th>\n",
              "      <td>2401</td>\n",
              "      <td>Borderlands</td>\n",
              "      <td>Positive</td>\n",
              "      <td>im getting into borderlands and i can murder y...</td>\n",
              "    </tr>\n",
              "  </tbody>\n",
              "</table>\n",
              "</div>\n",
              "    <div class=\"colab-df-buttons\">\n",
              "\n",
              "  <div class=\"colab-df-container\">\n",
              "    <button class=\"colab-df-convert\" onclick=\"convertToInteractive('df-25002d2b-be1c-47e0-a98d-4a5d18b1fdd8')\"\n",
              "            title=\"Convert this dataframe to an interactive table.\"\n",
              "            style=\"display:none;\">\n",
              "\n",
              "  <svg xmlns=\"http://www.w3.org/2000/svg\" height=\"24px\" viewBox=\"0 -960 960 960\">\n",
              "    <path d=\"M120-120v-720h720v720H120Zm60-500h600v-160H180v160Zm220 220h160v-160H400v160Zm0 220h160v-160H400v160ZM180-400h160v-160H180v160Zm440 0h160v-160H620v160ZM180-180h160v-160H180v160Zm440 0h160v-160H620v160Z\"/>\n",
              "  </svg>\n",
              "    </button>\n",
              "\n",
              "  <style>\n",
              "    .colab-df-container {\n",
              "      display:flex;\n",
              "      gap: 12px;\n",
              "    }\n",
              "\n",
              "    .colab-df-convert {\n",
              "      background-color: #E8F0FE;\n",
              "      border: none;\n",
              "      border-radius: 50%;\n",
              "      cursor: pointer;\n",
              "      display: none;\n",
              "      fill: #1967D2;\n",
              "      height: 32px;\n",
              "      padding: 0 0 0 0;\n",
              "      width: 32px;\n",
              "    }\n",
              "\n",
              "    .colab-df-convert:hover {\n",
              "      background-color: #E2EBFA;\n",
              "      box-shadow: 0px 1px 2px rgba(60, 64, 67, 0.3), 0px 1px 3px 1px rgba(60, 64, 67, 0.15);\n",
              "      fill: #174EA6;\n",
              "    }\n",
              "\n",
              "    .colab-df-buttons div {\n",
              "      margin-bottom: 4px;\n",
              "    }\n",
              "\n",
              "    [theme=dark] .colab-df-convert {\n",
              "      background-color: #3B4455;\n",
              "      fill: #D2E3FC;\n",
              "    }\n",
              "\n",
              "    [theme=dark] .colab-df-convert:hover {\n",
              "      background-color: #434B5C;\n",
              "      box-shadow: 0px 1px 3px 1px rgba(0, 0, 0, 0.15);\n",
              "      filter: drop-shadow(0px 1px 2px rgba(0, 0, 0, 0.3));\n",
              "      fill: #FFFFFF;\n",
              "    }\n",
              "  </style>\n",
              "\n",
              "    <script>\n",
              "      const buttonEl =\n",
              "        document.querySelector('#df-25002d2b-be1c-47e0-a98d-4a5d18b1fdd8 button.colab-df-convert');\n",
              "      buttonEl.style.display =\n",
              "        google.colab.kernel.accessAllowed ? 'block' : 'none';\n",
              "\n",
              "      async function convertToInteractive(key) {\n",
              "        const element = document.querySelector('#df-25002d2b-be1c-47e0-a98d-4a5d18b1fdd8');\n",
              "        const dataTable =\n",
              "          await google.colab.kernel.invokeFunction('convertToInteractive',\n",
              "                                                    [key], {});\n",
              "        if (!dataTable) return;\n",
              "\n",
              "        const docLinkHtml = 'Like what you see? Visit the ' +\n",
              "          '<a target=\"_blank\" href=https://colab.research.google.com/notebooks/data_table.ipynb>data table notebook</a>'\n",
              "          + ' to learn more about interactive tables.';\n",
              "        element.innerHTML = '';\n",
              "        dataTable['output_type'] = 'display_data';\n",
              "        await google.colab.output.renderOutput(dataTable, element);\n",
              "        const docLink = document.createElement('div');\n",
              "        docLink.innerHTML = docLinkHtml;\n",
              "        element.appendChild(docLink);\n",
              "      }\n",
              "    </script>\n",
              "  </div>\n",
              "\n",
              "\n",
              "<div id=\"df-fe20492d-a0da-47b6-8ef0-5fcebf7b73b4\">\n",
              "  <button class=\"colab-df-quickchart\" onclick=\"quickchart('df-fe20492d-a0da-47b6-8ef0-5fcebf7b73b4')\"\n",
              "            title=\"Suggest charts\"\n",
              "            style=\"display:none;\">\n",
              "\n",
              "<svg xmlns=\"http://www.w3.org/2000/svg\" height=\"24px\"viewBox=\"0 0 24 24\"\n",
              "     width=\"24px\">\n",
              "    <g>\n",
              "        <path d=\"M19 3H5c-1.1 0-2 .9-2 2v14c0 1.1.9 2 2 2h14c1.1 0 2-.9 2-2V5c0-1.1-.9-2-2-2zM9 17H7v-7h2v7zm4 0h-2V7h2v10zm4 0h-2v-4h2v4z\"/>\n",
              "    </g>\n",
              "</svg>\n",
              "  </button>\n",
              "\n",
              "<style>\n",
              "  .colab-df-quickchart {\n",
              "      --bg-color: #E8F0FE;\n",
              "      --fill-color: #1967D2;\n",
              "      --hover-bg-color: #E2EBFA;\n",
              "      --hover-fill-color: #174EA6;\n",
              "      --disabled-fill-color: #AAA;\n",
              "      --disabled-bg-color: #DDD;\n",
              "  }\n",
              "\n",
              "  [theme=dark] .colab-df-quickchart {\n",
              "      --bg-color: #3B4455;\n",
              "      --fill-color: #D2E3FC;\n",
              "      --hover-bg-color: #434B5C;\n",
              "      --hover-fill-color: #FFFFFF;\n",
              "      --disabled-bg-color: #3B4455;\n",
              "      --disabled-fill-color: #666;\n",
              "  }\n",
              "\n",
              "  .colab-df-quickchart {\n",
              "    background-color: var(--bg-color);\n",
              "    border: none;\n",
              "    border-radius: 50%;\n",
              "    cursor: pointer;\n",
              "    display: none;\n",
              "    fill: var(--fill-color);\n",
              "    height: 32px;\n",
              "    padding: 0;\n",
              "    width: 32px;\n",
              "  }\n",
              "\n",
              "  .colab-df-quickchart:hover {\n",
              "    background-color: var(--hover-bg-color);\n",
              "    box-shadow: 0 1px 2px rgba(60, 64, 67, 0.3), 0 1px 3px 1px rgba(60, 64, 67, 0.15);\n",
              "    fill: var(--button-hover-fill-color);\n",
              "  }\n",
              "\n",
              "  .colab-df-quickchart-complete:disabled,\n",
              "  .colab-df-quickchart-complete:disabled:hover {\n",
              "    background-color: var(--disabled-bg-color);\n",
              "    fill: var(--disabled-fill-color);\n",
              "    box-shadow: none;\n",
              "  }\n",
              "\n",
              "  .colab-df-spinner {\n",
              "    border: 2px solid var(--fill-color);\n",
              "    border-color: transparent;\n",
              "    border-bottom-color: var(--fill-color);\n",
              "    animation:\n",
              "      spin 1s steps(1) infinite;\n",
              "  }\n",
              "\n",
              "  @keyframes spin {\n",
              "    0% {\n",
              "      border-color: transparent;\n",
              "      border-bottom-color: var(--fill-color);\n",
              "      border-left-color: var(--fill-color);\n",
              "    }\n",
              "    20% {\n",
              "      border-color: transparent;\n",
              "      border-left-color: var(--fill-color);\n",
              "      border-top-color: var(--fill-color);\n",
              "    }\n",
              "    30% {\n",
              "      border-color: transparent;\n",
              "      border-left-color: var(--fill-color);\n",
              "      border-top-color: var(--fill-color);\n",
              "      border-right-color: var(--fill-color);\n",
              "    }\n",
              "    40% {\n",
              "      border-color: transparent;\n",
              "      border-right-color: var(--fill-color);\n",
              "      border-top-color: var(--fill-color);\n",
              "    }\n",
              "    60% {\n",
              "      border-color: transparent;\n",
              "      border-right-color: var(--fill-color);\n",
              "    }\n",
              "    80% {\n",
              "      border-color: transparent;\n",
              "      border-right-color: var(--fill-color);\n",
              "      border-bottom-color: var(--fill-color);\n",
              "    }\n",
              "    90% {\n",
              "      border-color: transparent;\n",
              "      border-bottom-color: var(--fill-color);\n",
              "    }\n",
              "  }\n",
              "</style>\n",
              "\n",
              "  <script>\n",
              "    async function quickchart(key) {\n",
              "      const quickchartButtonEl =\n",
              "        document.querySelector('#' + key + ' button');\n",
              "      quickchartButtonEl.disabled = true;  // To prevent multiple clicks.\n",
              "      quickchartButtonEl.classList.add('colab-df-spinner');\n",
              "      try {\n",
              "        const charts = await google.colab.kernel.invokeFunction(\n",
              "            'suggestCharts', [key], {});\n",
              "      } catch (error) {\n",
              "        console.error('Error during call to suggestCharts:', error);\n",
              "      }\n",
              "      quickchartButtonEl.classList.remove('colab-df-spinner');\n",
              "      quickchartButtonEl.classList.add('colab-df-quickchart-complete');\n",
              "    }\n",
              "    (() => {\n",
              "      let quickchartButtonEl =\n",
              "        document.querySelector('#df-fe20492d-a0da-47b6-8ef0-5fcebf7b73b4 button');\n",
              "      quickchartButtonEl.style.display =\n",
              "        google.colab.kernel.accessAllowed ? 'block' : 'none';\n",
              "    })();\n",
              "  </script>\n",
              "</div>\n",
              "\n",
              "    </div>\n",
              "  </div>\n"
            ],
            "application/vnd.google.colaboratory.intrinsic+json": {
              "type": "dataframe",
              "variable_name": "df",
              "summary": "{\n  \"name\": \"df\",\n  \"rows\": 75680,\n  \"fields\": [\n    {\n      \"column\": \"tweetID\",\n      \"properties\": {\n        \"dtype\": \"number\",\n        \"std\": 3740,\n        \"min\": 1,\n        \"max\": 13200,\n        \"num_unique_values\": 12447,\n        \"samples\": [\n          1616,\n          2660,\n          2335\n        ],\n        \"semantic_type\": \"\",\n        \"description\": \"\"\n      }\n    },\n    {\n      \"column\": \"entity\",\n      \"properties\": {\n        \"dtype\": \"category\",\n        \"num_unique_values\": 32,\n        \"samples\": [\n          \"Cyberpunk2077\",\n          \"Microsoft\",\n          \"TomClancysRainbowSix\"\n        ],\n        \"semantic_type\": \"\",\n        \"description\": \"\"\n      }\n    },\n    {\n      \"column\": \"sentiment\",\n      \"properties\": {\n        \"dtype\": \"category\",\n        \"num_unique_values\": 4,\n        \"samples\": [\n          \"Neutral\",\n          \"Irrelevant\",\n          \"Positive\"\n        ],\n        \"semantic_type\": \"\",\n        \"description\": \"\"\n      }\n    },\n    {\n      \"column\": \"tweet_content\",\n      \"properties\": {\n        \"dtype\": \"string\",\n        \"num_unique_values\": 69973,\n        \"samples\": [\n          \"| So fun and I feel like causing mayhem .   You tryna hop on ?\",\n          \"You know you\\u2019re getting older before Home Depot becomes your favorite store\",\n          \"niggas must really be out here they tryna play me like I'myself m call of duty! I hate it right here\"\n        ],\n        \"semantic_type\": \"\",\n        \"description\": \"\"\n      }\n    }\n  ]\n}"
            }
          },
          "metadata": {},
          "execution_count": 9
        }
      ]
    },
    {
      "cell_type": "code",
      "source": [
        "df.isnull().sum() ## checking for null values#"
      ],
      "metadata": {
        "colab": {
          "base_uri": "https://localhost:8080/"
        },
        "id": "eAh1iDDa_rDa",
        "outputId": "20840757-17e0-467f-9561-d913389bf574"
      },
      "execution_count": 12,
      "outputs": [
        {
          "output_type": "execute_result",
          "data": {
            "text/plain": [
              "tweetID          0\n",
              "entity           0\n",
              "sentiment        0\n",
              "tweet_content    0\n",
              "dtype: int64"
            ]
          },
          "metadata": {},
          "execution_count": 12
        }
      ]
    },
    {
      "cell_type": "code",
      "source": [
        "df.dropna(inplace=True)"
      ],
      "metadata": {
        "id": "JrlTGYxQ_52d"
      },
      "execution_count": 13,
      "outputs": []
    },
    {
      "cell_type": "code",
      "source": [
        "df.duplicated().sum() ## checkinf for duplicate values#"
      ],
      "metadata": {
        "colab": {
          "base_uri": "https://localhost:8080/"
        },
        "id": "KARLAzf3BBtv",
        "outputId": "59881913-5d2f-4925-a356-e7e5ecacfd96"
      },
      "execution_count": 14,
      "outputs": [
        {
          "output_type": "execute_result",
          "data": {
            "text/plain": [
              "2856"
            ]
          },
          "metadata": {},
          "execution_count": 14
        }
      ]
    },
    {
      "cell_type": "code",
      "source": [
        "df.drop_duplicates(inplace=True)"
      ],
      "metadata": {
        "id": "_ZzsWL06BPSJ"
      },
      "execution_count": 16,
      "outputs": []
    },
    {
      "cell_type": "code",
      "source": [
        "df.duplicated().sum()"
      ],
      "metadata": {
        "colab": {
          "base_uri": "https://localhost:8080/"
        },
        "id": "CVz339oLBVhz",
        "outputId": "10bd2c97-9b7b-4a9c-ba62-141678b81bee"
      },
      "execution_count": 17,
      "outputs": [
        {
          "output_type": "execute_result",
          "data": {
            "text/plain": [
              "0"
            ]
          },
          "metadata": {},
          "execution_count": 17
        }
      ]
    },
    {
      "cell_type": "code",
      "source": [
        "df.info()"
      ],
      "metadata": {
        "colab": {
          "base_uri": "https://localhost:8080/"
        },
        "id": "_tYnZdfcBeml",
        "outputId": "c0cb6637-4230-4e39-9711-d76e63a347fc"
      },
      "execution_count": 18,
      "outputs": [
        {
          "output_type": "stream",
          "name": "stdout",
          "text": [
            "<class 'pandas.core.frame.DataFrame'>\n",
            "Int64Index: 72138 entries, 0 to 995\n",
            "Data columns (total 4 columns):\n",
            " #   Column         Non-Null Count  Dtype \n",
            "---  ------         --------------  ----- \n",
            " 0   tweetID        72138 non-null  int64 \n",
            " 1   entity         72138 non-null  object\n",
            " 2   sentiment      72138 non-null  object\n",
            " 3   tweet_content  72138 non-null  object\n",
            "dtypes: int64(1), object(3)\n",
            "memory usage: 2.8+ MB\n"
          ]
        }
      ]
    },
    {
      "cell_type": "code",
      "source": [
        "# Calculate the number of sentiment labels in training data and validation data\n",
        "train_sentiment_counts = df_training['sentiment'].value_counts()\n",
        "valid_sentiment_counts = df_validation['sentiment'].value_counts()"
      ],
      "metadata": {
        "id": "q6sr582fBpCS"
      },
      "execution_count": 21,
      "outputs": []
    },
    {
      "cell_type": "code",
      "source": [
        "# Draw a pie chart for the training data\n",
        "plt.figure(figsize=(10, 5))\n",
        "plt.subplot(1, 2, 1)\n",
        "plt.pie(train_sentiment_counts, labels=train_sentiment_counts.index, autopct='%1.1f%%', colors=['skyblue', 'lightgreen', 'lightcoral', 'orange'])\n",
        "plt.title('Training Data Sentiment Distribution')\n",
        "\n",
        "# Draw a pie chart for the valid data\n",
        "plt.subplot(1, 2, 2)\n",
        "plt.pie(valid_sentiment_counts, labels=valid_sentiment_counts.index, autopct='%1.1f%%', colors=['skyblue', 'lightgreen', 'lightcoral', 'orange'])\n",
        "plt.title('Validation Data Sentiment Distribution')\n",
        "\n",
        "plt.tight_layout()\n",
        "plt.show()"
      ],
      "metadata": {
        "colab": {
          "base_uri": "https://localhost:8080/",
          "height": 494
        },
        "id": "ted_oonGCQg_",
        "outputId": "6f44700d-bd0d-4f51-9b31-f1fd2c1f976a"
      },
      "execution_count": 22,
      "outputs": [
        {
          "output_type": "display_data",
          "data": {
            "text/plain": [
              "<Figure size 1000x500 with 2 Axes>"
            ],
            "image/png": "[encoded data removed]"
          },
          "metadata": {}
        }
      ]
    },
    {
      "cell_type": "code",
      "source": [
        "plt.figure(figsize=(15, 5))\n",
        "\n",
        "plt.subplot(1, 2, 1)\n",
        "plt.bar(train_sentiment_counts.index, train_sentiment_counts.values, color=['skyblue', 'lightgreen', 'lightcoral', 'orange'])\n",
        "plt.title('Training Data Sentiment Distribution')\n",
        "plt.xlabel('sentiment')\n",
        "plt.ylabel('Count')\n",
        "\n",
        "# Display quantity in each column\n",
        "for i, count in enumerate(train_sentiment_counts.values):\n",
        "    plt.text(x=i, y=count, s=str(count), ha='center', va='bottom')\n",
        "\n",
        "\n",
        "plt.subplot(1, 2, 2)\n",
        "plt.bar(valid_sentiment_counts.index, valid_sentiment_counts.values, color=['skyblue', 'lightgreen', 'lightcoral', 'orange'])\n",
        "plt.title('Validation Data Sentiment Distribution')\n",
        "plt.xlabel('sentiment')\n",
        "plt.ylabel('Count')\n",
        "# Display quantity in each column\n",
        "for i, count in enumerate(valid_sentiment_counts.values):\n",
        "    plt.text(x=i, y=count, s=str(count), ha='center', va='bottom')\n",
        "\n",
        "plt.tight_layout()\n",
        "plt.show()"
      ],
      "metadata": {
        "colab": {
          "base_uri": "https://localhost:8080/",
          "height": 367
        },
        "id": "OyBzh8vSC790",
        "outputId": "128af677-0192-4e6c-a5ab-d5ce645f5b96"
      },
      "execution_count": 24,
      "outputs": [
        {
          "output_type": "display_data",
          "data": {
            "text/plain": [
              "<Figure size 1500x500 with 2 Axes>"
            ],
            "image/png": "[encoded data removed]"
          },
          "metadata": {}
        }
      ]
    },
    {
      "cell_type": "code",
      "source": [
        "# Get the column 'content' and assign it to an array\n",
        "train_sentences = df_training['tweet_content'].to_numpy()\n",
        "valid_sentences = df_validation['tweet_content'].to_numpy()\n",
        "\n",
        "# Convert the label value to the corresponding number\n",
        "label_mapping = {'Positive': 0, 'Negative': 1,'Neutral' : 2,'Irrelevant': 3,}\n",
        "train_label = df_training['sentiment'].map(label_mapping)\n",
        "valid_label = df_validation['sentiment'].map(label_mapping)"
      ],
      "metadata": {
        "id": "TAdnDNNPDLSR"
      },
      "execution_count": 25,
      "outputs": []
    },
    {
      "cell_type": "code",
      "source": [
        "print(train_sentences)"
      ],
      "metadata": {
        "colab": {
          "base_uri": "https://localhost:8080/"
        },
        "id": "hXJ_zl-hDxWF",
        "outputId": "30bb5da2-5d09-40f5-b0bb-600661877e4d"
      },
      "execution_count": 26,
      "outputs": [
        {
          "output_type": "stream",
          "name": "stdout",
          "text": [
            "['I am coming to the borders and I will kill you all,'\n",
            " 'im getting on borderlands and i will kill you all,'\n",
            " 'im coming on borderlands and i will murder you all,' ...\n",
            " 'Just realized the windows partition of my Mac is now 6 years behind on Nvidia drivers and I have no idea how he didn’t notice'\n",
            " 'Just realized between the windows partition of my Mac is like being 6 years behind on Nvidia drivers and cars I have no fucking idea how I ever didn ’ t notice'\n",
            " 'Just like the windows partition of my Mac is like 6 years behind on its drivers So you have no idea how I didn’t notice']\n"
          ]
        }
      ]
    },
    {
      "cell_type": "code",
      "source": [
        "train_label"
      ],
      "metadata": {
        "colab": {
          "base_uri": "https://localhost:8080/"
        },
        "id": "-mpM36oqD564",
        "outputId": "efdde7b8-56fe-4629-bb55-b3a7c19a24d7"
      },
      "execution_count": 27,
      "outputs": [
        {
          "output_type": "execute_result",
          "data": {
            "text/plain": [
              "0        0\n",
              "1        0\n",
              "2        0\n",
              "3        0\n",
              "4        0\n",
              "        ..\n",
              "74676    0\n",
              "74677    0\n",
              "74678    0\n",
              "74679    0\n",
              "74680    0\n",
              "Name: sentiment, Length: 74681, dtype: int64"
            ]
          },
          "metadata": {},
          "execution_count": 27
        }
      ]
    },
    {
      "cell_type": "code",
      "source": [
        "print(valid_sentences[:10])  # Show the first 10 elements of the array\n",
        "valid_label"
      ],
      "metadata": {
        "colab": {
          "base_uri": "https://localhost:8080/"
        },
        "id": "UxRsuMlFD8dZ",
        "outputId": "79bdec98-b4d2-4503-e30a-556d95ddf3d1"
      },
      "execution_count": 28,
      "outputs": [
        {
          "output_type": "stream",
          "name": "stdout",
          "text": [
            "[\"BBC News - Amazon boss Jeff Bezos rejects claims company acted like a 'drug dealer' bbc.co.uk/news/av/busine…\"\n",
            " '@Microsoft Why do I pay for WORD when it functions so poorly on my @SamsungUS Chromebook? 🙄'\n",
            " \"CSGO matchmaking is so full of closet hacking, it's a truly awful game.\"\n",
            " 'Now the President is slapping Americans in the face that he really did commit an unlawful act after his  acquittal! From Discover on Google vanityfair.com/news/2020/02/t…'\n",
            " 'Hi @EAHelp I’ve had Madeleine McCann in my cellar for the past 13 years and the little sneaky thing just escaped whilst I was loading up some fifa points, she took my card and I’m having to use my paypal account but it isn’t working, can you help me resolve it please?'\n",
            " 'Thank you @EAMaddenNFL!! \\n\\nNew TE Austin Hooper in the ORANGE & BROWN!! \\n\\n#Browns | @AustinHooper18 \\n\\n pic.twitter.com/GRg4xzFKOn'\n",
            " 'Rocket League, Sea of Thieves or Rainbow Six: Siege🤔? I love playing all three on stream but which is the best? #stream #twitch #RocketLeague #SeaOfThieves #RainbowSixSiege #follow'\n",
            " 'my ass still knee-deep in Assassins Creed Odyssey with no way out anytime soon lmao'\n",
            " 'FIX IT JESUS ! Please FIX IT ! What In the world is going on here.  @PlayStation @AskPlayStation @Playstationsup @Treyarch @CallofDuty negative 345 silver wolf error code pic.twitter.com/ziRyhrf59Q'\n",
            " 'The professional dota 2 scene is fucking exploding and I completely welcome it.\\n\\nGet the garbage out.']\n"
          ]
        },
        {
          "output_type": "execute_result",
          "data": {
            "text/plain": [
              "0      2\n",
              "1      1\n",
              "2      1\n",
              "3      2\n",
              "4      1\n",
              "      ..\n",
              "994    3\n",
              "995    3\n",
              "996    0\n",
              "997    0\n",
              "998    2\n",
              "Name: sentiment, Length: 999, dtype: int64"
            ]
          },
          "metadata": {},
          "execution_count": 28
        }
      ]
    },
    {
      "cell_type": "code",
      "source": [
        "!pip install clean-text ### Delete Emoji"
      ],
      "metadata": {
        "colab": {
          "base_uri": "https://localhost:8080/"
        },
        "id": "aXPvheMqEexu",
        "outputId": "ba165a0c-4a73-46b8-c57c-d91643056b1b"
      },
      "execution_count": 30,
      "outputs": [
        {
          "output_type": "stream",
          "name": "stdout",
          "text": [
            "Collecting clean-text\n",
            "  Downloading clean_text-0.6.0-py3-none-any.whl (11 kB)\n",
            "Collecting emoji<2.0.0,>=1.0.0 (from clean-text)\n",
            "  Downloading emoji-1.7.0.tar.gz (175 kB)\n",
            "\u001b[2K     \u001b[90m━━━━━━━━━━━━━━━━━━━━━━━━━━━━━━━━━━━━━━━━\u001b[0m \u001b[32m175.4/175.4 kB\u001b[0m \u001b[31m5.5 MB/s\u001b[0m eta \u001b[36m0:00:00\u001b[0m\n",
            "\u001b[?25h  Preparing metadata (setup.py) ... \u001b[?25l\u001b[?25hdone\n",
            "Collecting ftfy<7.0,>=6.0 (from clean-text)\n",
            "  Downloading ftfy-6.2.0-py3-none-any.whl (54 kB)\n",
            "\u001b[2K     \u001b[90m━━━━━━━━━━━━━━━━━━━━━━━━━━━━━━━━━━━━━━━━\u001b[0m \u001b[32m54.4/54.4 kB\u001b[0m \u001b[31m7.6 MB/s\u001b[0m eta \u001b[36m0:00:00\u001b[0m\n",
            "\u001b[?25hRequirement already satisfied: wcwidth<0.3.0,>=0.2.12 in /usr/local/lib/python3.10/dist-packages (from ftfy<7.0,>=6.0->clean-text) (0.2.13)\n",
            "Building wheels for collected packages: emoji\n",
            "  Building wheel for emoji (setup.py) ... \u001b[?25l\u001b[?25hdone\n",
            "  Created wheel for emoji: filename=emoji-1.7.0-py3-none-any.whl size=171034 sha256=a45b39220fda123bbe81d160ad64ca73ca6571a095feba0188a6b3514a0e27b4\n",
            "  Stored in directory: /root/.cache/pip/wheels/31/8a/8c/315c9e5d7773f74b33d5ed33f075b49c6eaeb7cedbb86e2cf8\n",
            "Successfully built emoji\n",
            "Installing collected packages: emoji, ftfy, clean-text\n",
            "Successfully installed clean-text-0.6.0 emoji-1.7.0 ftfy-6.2.0\n"
          ]
        }
      ]
    },
    {
      "cell_type": "code",
      "source": [
        "from cleantext import clean"
      ],
      "metadata": {
        "colab": {
          "base_uri": "https://localhost:8080/"
        },
        "id": "C1dLvN8LEGqF",
        "outputId": "6e015459-5579-4bd8-a34e-d432693ff589"
      },
      "execution_count": 31,
      "outputs": [
        {
          "output_type": "stream",
          "name": "stderr",
          "text": [
            "WARNING:root:Since the GPL-licensed package `unidecode` is not installed, using Python's `unicodedata` package which yields worse results.\n"
          ]
        }
      ]
    },
    {
      "cell_type": "code",
      "source": [
        "# Create an array to store sentences that remove emojis\n",
        "remove_emoji_train_sentences = []\n",
        "remove_emoji_valid_sentences = []\n",
        "\n",
        "# Process and add sentences to the processed list\n",
        "for sentence in train_sentences:\n",
        "    remove_emoji_train_sentences.append(clean(sentence, no_emoji=True))\n",
        "\n",
        "for sentence in valid_sentences:\n",
        "    remove_emoji_valid_sentences.append(clean(sentence, no_emoji=True))"
      ],
      "metadata": {
        "id": "UepZWEtpEU6r"
      },
      "execution_count": 32,
      "outputs": []
    },
    {
      "cell_type": "code",
      "source": [
        "print(remove_emoji_train_sentences[:10])\n",
        "print(remove_emoji_valid_sentences[:10])"
      ],
      "metadata": {
        "colab": {
          "base_uri": "https://localhost:8080/"
        },
        "id": "DMgorANaEsUt",
        "outputId": "50221fb4-c81a-4edf-efb1-d3df950154ef"
      },
      "execution_count": 33,
      "outputs": [
        {
          "output_type": "stream",
          "name": "stdout",
          "text": [
            "['i am coming to the borders and i will kill you all,', 'im getting on borderlands and i will kill you all,', 'im coming on borderlands and i will murder you all,', 'im getting on borderlands 2 and i will murder you me all,', 'im getting into borderlands and i can murder you all,', \"so i spent a few hours making something for fun. . . if you don't know i am a huge @borderlands fan and maya is one of my favorite characters. so i decided to make myself a wallpaper for my pc. . here is the original image versus the creation i made :) enjoy! pic.twitter.com/mlsi5wf9jg\", \"so i spent a couple of hours doing something for fun... if you don't know that i'm a huge @ borderlands fan and maya is one of my favorite characters, i decided to make a wallpaper for my pc.. here's the original picture compared to the creation i made:) have fun! pic.twitter.com / mlsi5wf9jg\", \"so i spent a few hours doing something for fun... if you don't know i'm a huge @ borderlands fan and maya is one of my favorite characters.\", \"so i spent a few hours making something for fun. . . if you don't know i am a huge rhandlerr fan and maya is one of my favorite characters. so i decided to make myself a wallpaper for my pc. . here is the original image versus the creation i made :) enjoy! pic.twitter.com/mlsi5wf9jg\", \"2010 so i spent a few hours making something for fun. . . if you don't know i am a huge rhandlerr fan and maya is one of my favorite characters. so i decided to make myself a wallpaper for my pc. . here is the original image versus the creation i made :) enjoy! pic.twitter.com/mlsi5wf9jg\"]\n",
            "[\"bbc news - amazon boss jeff bezos rejects claims company acted like a 'drug dealer' bbc.co.uk/news/av/busine\", '@microsoft why do i pay for word when it functions so poorly on my @samsungus chromebook?', \"csgo matchmaking is so full of closet hacking, it's a truly awful game.\", 'now the president is slapping americans in the face that he really did commit an unlawful act after his acquittal! from discover on google vanityfair.com/news/2020/02/t', \"hi @eahelp i've had madeleine mccann in my cellar for the past 13 years and the little sneaky thing just escaped whilst i was loading up some fifa points, she took my card and i'm having to use my paypal account but it isn't working, can you help me resolve it please?\", 'thank you @eamaddennfl!!\\nnew te austin hooper in the orange & brown!!\\n#browns | @austinhooper18\\npic.twitter.com/grg4xzfkon', 'rocket league, sea of thieves or rainbow six: siege? i love playing all three on stream but which is the best? #stream #twitch #rocketleague #seaofthieves #rainbowsixsiege #follow', 'my ass still knee-deep in assassins creed odyssey with no way out anytime soon lmao', 'fix it jesus ! please fix it ! what in the world is going on here. @playstation @askplaystation @playstationsup @treyarch @callofduty negative 345 silver wolf error code pic.twitter.com/ziryhrf59q', 'the professional dota 2 scene is fucking exploding and i completely welcome it.\\nget the garbage out.']\n"
          ]
        }
      ]
    },
    {
      "cell_type": "code",
      "source": [
        "from sklearn.preprocessing import LabelBinarizer"
      ],
      "metadata": {
        "id": "0TPtnni-EyiW"
      },
      "execution_count": 34,
      "outputs": []
    },
    {
      "cell_type": "code",
      "source": [
        "#Converted our labels to one-hot-encoding values. Ex : 1 ----->[0,1,0,0,0,0,0,0,0,0]\n",
        "lb = LabelBinarizer()"
      ],
      "metadata": {
        "id": "ZZ452F9XFHPT"
      },
      "execution_count": 35,
      "outputs": []
    },
    {
      "cell_type": "code",
      "source": [
        "train_label = lb.fit_transform(train_label)\n",
        "valid_label = lb.fit_transform(valid_label)"
      ],
      "metadata": {
        "id": "2nT5OY8oFKqm"
      },
      "execution_count": 36,
      "outputs": []
    },
    {
      "cell_type": "code",
      "source": [
        "print(train_label[0])"
      ],
      "metadata": {
        "colab": {
          "base_uri": "https://localhost:8080/"
        },
        "id": "nXMRpIMvFM6-",
        "outputId": "e9ecfe5a-c8fb-412e-84a9-5fb449a239cd"
      },
      "execution_count": 37,
      "outputs": [
        {
          "output_type": "stream",
          "name": "stdout",
          "text": [
            "[1 0 0 0]\n"
          ]
        }
      ]
    },
    {
      "cell_type": "code",
      "source": [
        "### Create Vocabulary###\n",
        "\n",
        "vocabulary_size = 10000\n",
        "\n",
        "embedding_dim = 64\n",
        "\n",
        "max_length_sentence = 150"
      ],
      "metadata": {
        "id": "Q6UDvaMpFPlB"
      },
      "execution_count": 38,
      "outputs": []
    },
    {
      "cell_type": "code",
      "source": [
        "from tensorflow.keras.preprocessing.text import Tokenizer\n",
        "from tensorflow.keras.preprocessing.sequence import pad_sequences"
      ],
      "metadata": {
        "id": "pL1ElALqFWeQ"
      },
      "execution_count": 39,
      "outputs": []
    },
    {
      "cell_type": "code",
      "source": [
        "tokenizer = Tokenizer(num_words=vocabulary_size , oov_token = 'OOV', lower = True,filters='!\"#$%&()*+,-./:;<=>?@[\\\\]^_`{|}~\\t\\n')"
      ],
      "metadata": {
        "id": "OzAUws5rFcDX"
      },
      "execution_count": 40,
      "outputs": []
    },
    {
      "cell_type": "code",
      "source": [
        "tokenizer.fit_on_texts(remove_emoji_train_sentences)"
      ],
      "metadata": {
        "id": "i_xkevxoFh5F"
      },
      "execution_count": 41,
      "outputs": []
    },
    {
      "cell_type": "code",
      "source": [
        "# If you want to display both you can use this syntax : tokenizer.word_index\n",
        "print(list(tokenizer.word_index.items())[:50])  # Display the first 10 key-value pairs"
      ],
      "metadata": {
        "colab": {
          "base_uri": "https://localhost:8080/"
        },
        "id": "deDEVkH1FlwI",
        "outputId": "f5712535-c300-41a8-c1d3-59be4ac6df57"
      },
      "execution_count": 42,
      "outputs": [
        {
          "output_type": "stream",
          "name": "stdout",
          "text": [
            "[('OOV', 1), ('the', 2), ('i', 3), ('to', 4), ('and', 5), ('a', 6), ('of', 7), ('is', 8), ('in', 9), ('for', 10), ('this', 11), ('it', 12), ('you', 13), ('on', 14), ('my', 15), ('that', 16), ('com', 17), ('with', 18), ('game', 19), ('so', 20), ('be', 21), ('me', 22), ('have', 23), ('just', 24), ('but', 25), ('not', 26), ('are', 27), ('all', 28), ('at', 29), ('was', 30), ('like', 31), ('out', 32), ('2', 33), ('from', 34), ('your', 35), (\"i'm\", 36), ('pic', 37), ('twitter', 38), ('now', 39), ('get', 40), ('we', 41), ('as', 42), ('they', 43), ('if', 44), ('has', 45), ('one', 46), ('t', 47), ('do', 48), ('good', 49), ('about', 50)]\n"
          ]
        }
      ]
    },
    {
      "cell_type": "code",
      "source": [
        "remove_emoji_train_sentences = tokenizer.texts_to_sequences(remove_emoji_train_sentences)  ###Converts sentences from text to numeric strings, based on the previously created vocabulary dictionary.¶"
      ],
      "metadata": {
        "id": "EypkKNOfFobB"
      },
      "execution_count": 43,
      "outputs": []
    },
    {
      "cell_type": "code",
      "source": [
        "padding_train_sentences = pad_sequences(remove_emoji_train_sentences, maxlen=max_length_sentence,truncating='post',padding='post')"
      ],
      "metadata": {
        "id": "xbc-ZYvvFxEw"
      },
      "execution_count": 45,
      "outputs": []
    },
    {
      "cell_type": "code",
      "source": [
        "padding_train_sentences"
      ],
      "metadata": {
        "colab": {
          "base_uri": "https://localhost:8080/"
        },
        "id": "xthsJerlF0nV",
        "outputId": "022db2d6-5106-499b-a179-b4e718b52491"
      },
      "execution_count": 46,
      "outputs": [
        {
          "output_type": "execute_result",
          "data": {
            "text/plain": [
              "array([[   3,  123,  405, ...,    0,    0,    0],\n",
              "       [ 307,  176,   14, ...,    0,    0,    0],\n",
              "       [ 307,  405,   14, ...,    0,    0,    0],\n",
              "       ...,\n",
              "       [  24, 1961,    2, ...,    0,    0,    0],\n",
              "       [  24, 1961,  743, ...,    0,    0,    0],\n",
              "       [  24,   31,    2, ...,    0,    0,    0]], dtype=int32)"
            ]
          },
          "metadata": {},
          "execution_count": 46
        }
      ]
    },
    {
      "cell_type": "code",
      "source": [
        "padding_train_sentences.shape"
      ],
      "metadata": {
        "colab": {
          "base_uri": "https://localhost:8080/"
        },
        "id": "-0D4l0GJGDh-",
        "outputId": "15c94ed1-2dc1-47d6-c4dc-02693c5894d0"
      },
      "execution_count": 47,
      "outputs": [
        {
          "output_type": "execute_result",
          "data": {
            "text/plain": [
              "(74681, 150)"
            ]
          },
          "metadata": {},
          "execution_count": 47
        }
      ]
    },
    {
      "cell_type": "code",
      "source": [
        "remove_emoji_valid_sentences = tokenizer.texts_to_sequences(remove_emoji_valid_sentences)\n",
        "padding_valid_sentences = pad_sequences(remove_emoji_valid_sentences, maxlen=max_length_sentence,truncating='post',padding='post')"
      ],
      "metadata": {
        "id": "TpYHZDqEGIfv"
      },
      "execution_count": 48,
      "outputs": []
    },
    {
      "cell_type": "code",
      "source": [
        "padding_valid_sentences.shape"
      ],
      "metadata": {
        "colab": {
          "base_uri": "https://localhost:8080/"
        },
        "id": "W2KrKb47GMI_",
        "outputId": "4f690cdb-29e0-406f-9c60-27cee80ef242"
      },
      "execution_count": 49,
      "outputs": [
        {
          "output_type": "execute_result",
          "data": {
            "text/plain": [
              "(999, 150)"
            ]
          },
          "metadata": {},
          "execution_count": 49
        }
      ]
    },
    {
      "cell_type": "code",
      "source": [
        "from tensorflow.keras.models import Sequential\n",
        "from tensorflow.keras.layers import Embedding,Flatten,Dense"
      ],
      "metadata": {
        "id": "5L3K35LJGPUe"
      },
      "execution_count": 50,
      "outputs": []
    },
    {
      "cell_type": "code",
      "source": [
        "model = Sequential()\n",
        "\n",
        "model.add(Embedding(vocabulary_size,embedding_dim,input_length=max_length_sentence))\n",
        "\n",
        "model.add(Flatten())\n",
        "\n",
        "model.add(Dense(10,activation='relu'))\n",
        "\n",
        "model.add(Dense(4,activation='softmax'))\n",
        "\n",
        "model.compile(optimizer='adam',loss=\"categorical_crossentropy\",metrics=[\"accuracy\"])"
      ],
      "metadata": {
        "id": "fUNUOUQTGWCN"
      },
      "execution_count": 51,
      "outputs": []
    },
    {
      "cell_type": "code",
      "source": [
        "model.summary()"
      ],
      "metadata": {
        "colab": {
          "base_uri": "https://localhost:8080/"
        },
        "id": "9W0cuSkBGZve",
        "outputId": "05b51535-1689-4076-8bbc-cca60043a0d4"
      },
      "execution_count": 52,
      "outputs": [
        {
          "output_type": "stream",
          "name": "stdout",
          "text": [
            "Model: \"sequential\"\n",
            "_________________________________________________________________\n",
            " Layer (type)                Output Shape              Param #   \n",
            "=================================================================\n",
            " embedding (Embedding)       (None, 150, 64)           640000    \n",
            "                                                                 \n",
            " flatten (Flatten)           (None, 9600)              0         \n",
            "                                                                 \n",
            " dense (Dense)               (None, 10)                96010     \n",
            "                                                                 \n",
            " dense_1 (Dense)             (None, 4)                 44        \n",
            "                                                                 \n",
            "=================================================================\n",
            "Total params: 736054 (2.81 MB)\n",
            "Trainable params: 736054 (2.81 MB)\n",
            "Non-trainable params: 0 (0.00 Byte)\n",
            "_________________________________________________________________\n"
          ]
        }
      ]
    },
    {
      "cell_type": "code",
      "source": [
        "print('Building model.................')\n",
        "history = model.fit(padding_train_sentences,train_label,epochs=20,validation_data=(padding_valid_sentences,valid_label))\n",
        "print('Success!!!!!!!!!!!!!!!!!!!!!!!!')"
      ],
      "metadata": {
        "colab": {
          "base_uri": "https://localhost:8080/"
        },
        "id": "WYc3TvbLGeVD",
        "outputId": "292738b0-958c-42fd-96f0-f85239cec553"
      },
      "execution_count": 53,
      "outputs": [
        {
          "output_type": "stream",
          "name": "stdout",
          "text": [
            "Building model.................\n",
            "Epoch 1/20\n",
            "2334/2334 [==============================] - 31s 12ms/step - loss: 0.9078 - accuracy: 0.6130 - val_loss: 0.2472 - val_accuracy: 0.9259\n",
            "Epoch 2/20\n",
            "2334/2334 [==============================] - 27s 12ms/step - loss: 0.3125 - accuracy: 0.8853 - val_loss: 0.0987 - val_accuracy: 0.9710\n",
            "Epoch 3/20\n",
            "2334/2334 [==============================] - 29s 13ms/step - loss: 0.1758 - accuracy: 0.9337 - val_loss: 0.0903 - val_accuracy: 0.9710\n",
            "Epoch 4/20\n",
            "2334/2334 [==============================] - 28s 12ms/step - loss: 0.1310 - accuracy: 0.9487 - val_loss: 0.0880 - val_accuracy: 0.9770\n",
            "Epoch 5/20\n",
            "2334/2334 [==============================] - 26s 11ms/step - loss: 0.1127 - accuracy: 0.9539 - val_loss: 0.1069 - val_accuracy: 0.9750\n",
            "Epoch 6/20\n",
            "2334/2334 [==============================] - 28s 12ms/step - loss: 0.1026 - accuracy: 0.9572 - val_loss: 0.1034 - val_accuracy: 0.9760\n",
            "Epoch 7/20\n",
            "2334/2334 [==============================] - 28s 12ms/step - loss: 0.0954 - accuracy: 0.9603 - val_loss: 0.1015 - val_accuracy: 0.9730\n",
            "Epoch 8/20\n",
            "2334/2334 [==============================] - 27s 12ms/step - loss: 0.0905 - accuracy: 0.9611 - val_loss: 0.1189 - val_accuracy: 0.9690\n",
            "Epoch 9/20\n",
            "2334/2334 [==============================] - 27s 12ms/step - loss: 0.0868 - accuracy: 0.9621 - val_loss: 0.1254 - val_accuracy: 0.9720\n",
            "Epoch 10/20\n",
            "2334/2334 [==============================] - 28s 12ms/step - loss: 0.0844 - accuracy: 0.9633 - val_loss: 0.1111 - val_accuracy: 0.9780\n",
            "Epoch 11/20\n",
            "2334/2334 [==============================] - 28s 12ms/step - loss: 0.0824 - accuracy: 0.9637 - val_loss: 0.1375 - val_accuracy: 0.9770\n",
            "Epoch 12/20\n",
            "2334/2334 [==============================] - 27s 12ms/step - loss: 0.0812 - accuracy: 0.9641 - val_loss: 0.1436 - val_accuracy: 0.9740\n",
            "Epoch 13/20\n",
            "2334/2334 [==============================] - 27s 12ms/step - loss: 0.0796 - accuracy: 0.9642 - val_loss: 0.1295 - val_accuracy: 0.9730\n",
            "Epoch 14/20\n",
            "2334/2334 [==============================] - 27s 11ms/step - loss: 0.0785 - accuracy: 0.9643 - val_loss: 0.1270 - val_accuracy: 0.9740\n",
            "Epoch 15/20\n",
            "2334/2334 [==============================] - 26s 11ms/step - loss: 0.0774 - accuracy: 0.9647 - val_loss: 0.1385 - val_accuracy: 0.9730\n",
            "Epoch 16/20\n",
            "2334/2334 [==============================] - 26s 11ms/step - loss: 0.0768 - accuracy: 0.9654 - val_loss: 0.1368 - val_accuracy: 0.9750\n",
            "Epoch 17/20\n",
            "2334/2334 [==============================] - 27s 11ms/step - loss: 0.0760 - accuracy: 0.9652 - val_loss: 0.1470 - val_accuracy: 0.9740\n",
            "Epoch 18/20\n",
            "2334/2334 [==============================] - 28s 12ms/step - loss: 0.0745 - accuracy: 0.9653 - val_loss: 0.1758 - val_accuracy: 0.9720\n",
            "Epoch 19/20\n",
            "2334/2334 [==============================] - 28s 12ms/step - loss: 0.0734 - accuracy: 0.9663 - val_loss: 0.1653 - val_accuracy: 0.9730\n",
            "Epoch 20/20\n",
            "2334/2334 [==============================] - 27s 12ms/step - loss: 0.0727 - accuracy: 0.9660 - val_loss: 0.1963 - val_accuracy: 0.9680\n",
            "Success!!!!!!!!!!!!!!!!!!!!!!!!\n"
          ]
        }
      ]
    },
    {
      "cell_type": "code",
      "source": [
        "# Plot the loss of training and validation\n",
        "plt.plot(history.history['loss'])\n",
        "plt.plot(history.history['val_loss'])\n",
        "plt.title('Model loss')\n",
        "plt.ylabel('Loss')\n",
        "plt.xlabel('Epoch')\n",
        "plt.legend(['Train', 'Validation'], loc='upper right')\n",
        "plt.show()\n",
        "\n",
        "\n",
        "# Plot the accuracy of training and validation\n",
        "plt.plot(history.history['accuracy'])\n",
        "plt.plot(history.history['val_accuracy'])\n",
        "plt.title('Model Accuracy')\n",
        "plt.ylabel('Accuracy')\n",
        "plt.xlabel('Epoch')\n",
        "plt.legend(['Train', 'Validation'], loc='lower right')\n",
        "plt.show()"
      ],
      "metadata": {
        "colab": {
          "base_uri": "https://localhost:8080/",
          "height": 927
        },
        "id": "c5RyuOllGmLT",
        "outputId": "951932a4-1386-4eac-addd-a2d82f7027c9"
      },
      "execution_count": 54,
      "outputs": [
        {
          "output_type": "display_data",
          "data": {
            "text/plain": [
              "<Figure size 640x480 with 1 Axes>"
            ],
            "image/png": "[encoded data removed]"
          },
          "metadata": {}
        },
        {
          "output_type": "display_data",
          "data": {
            "text/plain": [
              "<Figure size 640x480 with 1 Axes>"
            ],
            "image/png": "[encoded data removed]"
          },
          "metadata": {}
        }
      ]
    },
    {
      "cell_type": "code",
      "source": [],
      "metadata": {
        "id": "dG0wkwfSIx5F"
      },
      "execution_count": null,
      "outputs": []
    }
  ]
}